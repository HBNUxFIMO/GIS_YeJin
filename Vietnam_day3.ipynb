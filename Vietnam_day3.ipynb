{
  "nbformat": 4,
  "nbformat_minor": 0,
  "metadata": {
    "colab": {
      "provenance": []
    },
    "kernelspec": {
      "name": "python3",
      "display_name": "Python 3"
    },
    "language_info": {
      "name": "python"
    }
  },
  "cells": [
    {
      "cell_type": "code",
      "execution_count": 10,
      "metadata": {
        "colab": {
          "base_uri": "https://localhost:8080/"
        },
        "id": "Sq6EycsI0rFH",
        "outputId": "2727dd88-ea72-420c-b63b-b6fcab209405"
      },
      "outputs": [
        {
          "output_type": "stream",
          "name": "stdout",
          "text": [
            "GDAL's version is : 3.6.4\n",
            "<module 'osgeo.gdal' from '/usr/local/lib/python3.10/dist-packages/osgeo/gdal.py'>\n"
          ]
        }
      ],
      "source": [
        "from __future__ import print_function\n",
        "\n",
        "from osgeo import gdal\n",
        "\n",
        "print(\"GDAL's version is : \" + gdal.__version__)\n",
        "print(gdal)"
      ]
    },
    {
      "cell_type": "code",
      "source": [
        "dataset = gdal.Open('LC08_L2SP_114035_20240730_20240801_02_T1_SR_B2.TIF', gdal.GA_ReadOnly)\n",
        "\n",
        "print(dataset)"
      ],
      "metadata": {
        "colab": {
          "base_uri": "https://localhost:8080/"
        },
        "id": "-kn_031w2A72",
        "outputId": "81764914-0f0a-4c8b-bd6e-28721a746063"
      },
      "execution_count": 13,
      "outputs": [
        {
          "output_type": "stream",
          "name": "stdout",
          "text": [
            "<osgeo.gdal.Dataset; proxy of <Swig Object of type 'GDALDatasetShadow *' at 0x7ebf3b230420> >\n"
          ]
        }
      ]
    },
    {
      "cell_type": "code",
      "source": [
        "num_bands = dataset.RasterCount\n",
        "print('Number of bands in image: {n}\\n'.format(n=num_bands))\n",
        "\n",
        "rows = dataset.RasterYSize\n",
        "cols = dataset.RasterXSize\n",
        "print('Image seize is: {r} rows x {c} columns\\n'.format(r=rows, c=cols))\n",
        "\n",
        "desc = dataset.GetDescription()\n",
        "metadata = dataset.GetMetadata()\n",
        "\n",
        "print('Raster description : {desc}'.format(desc = desc))\n",
        "print('Raster metadata:')\n",
        "print(metadata)\n",
        "print('\\n')\n",
        "\n",
        "driver = dataset.GetDriver()\n",
        "print('Raster driver : {d}\\n'.format(d=driver.ShortName))"
      ],
      "metadata": {
        "colab": {
          "base_uri": "https://localhost:8080/"
        },
        "id": "DpR1j9Ha21Y7",
        "outputId": "a7776e16-fac4-4f54-990c-1d82845024bc"
      },
      "execution_count": 14,
      "outputs": [
        {
          "output_type": "stream",
          "name": "stdout",
          "text": [
            "Number of bands in image: 1\n",
            "\n",
            "Image seize is: 7821 rows x 7681 columns\n",
            "\n",
            "Raster description : LC08_L2SP_114035_20240730_20240801_02_T1_SR_B2.TIF\n",
            "Raster metadata:\n",
            "{'AREA_OR_POINT': 'Point'}\n",
            "\n",
            "\n",
            "Raster driver : GTiff\n",
            "\n"
          ]
        }
      ]
    },
    {
      "cell_type": "code",
      "source": [
        "blue = dataset.GetRasterBand(1)\n",
        "\n",
        "print(blue)"
      ],
      "metadata": {
        "colab": {
          "base_uri": "https://localhost:8080/"
        },
        "id": "229TAlnc5xq-",
        "outputId": "0d3e3a5e-82f2-47b6-b2db-57008715a732"
      },
      "execution_count": 17,
      "outputs": [
        {
          "output_type": "stream",
          "name": "stdout",
          "text": [
            "<osgeo.gdal.Band; proxy of <Swig Object of type 'GDALRasterBandShadow *' at 0x7ebef3f21dd0> >\n"
          ]
        }
      ]
    },
    {
      "cell_type": "code",
      "source": [
        "datatype = blue.DataType\n",
        "print('Band datatype : {dt}'.format(dt=blue.DataType))\n",
        "\n",
        "datatype_name = gdal.GetDataTypeName(blue.DataType)\n",
        "print('Band datatype : {dt}'.format(dt=datatype_name))\n",
        "\n",
        "bytes = gdal.GetDataTypeSize(blue.DataType)\n",
        "print('Band datatype size : {b} bytes\\n'.format(b=bytes))\n",
        "\n",
        "band_max, band_min, band_mean, band_stddev = blue.GetStatistics(0,1)\n",
        "print('Band range : {minimum} - {maximum}'.format(maximum=band_max, minimum=band_min))\n",
        "print('Band mean, stddev : {m}, {s}\\n'.format(m=band_mean, s=band_stddev))\n",
        "\n",
        "bule_data = blue.ReadAsArray()"
      ],
      "metadata": {
        "colab": {
          "base_uri": "https://localhost:8080/"
        },
        "id": "XoH7tjks53Fx",
        "outputId": "101b2e47-1e3f-4135-e69e-53919d4fd327"
      },
      "execution_count": 22,
      "outputs": [
        {
          "output_type": "stream",
          "name": "stdout",
          "text": [
            "Band datatype : 2\n",
            "Band datatype : UInt16\n",
            "Band datatype size : 16 bytes\n",
            "\n",
            "Band range : 57776.0 - 1.0\n",
            "Band mean, stddev : 13357.309216986, 10519.044675774\n",
            "\n"
          ]
        }
      ]
    },
    {
      "cell_type": "code",
      "source": [
        "import numpy\n",
        "print(numpy.__version__)\n",
        "\n",
        "import numpy as np\n",
        "print(np.__version__)\n",
        "\n",
        "image = np.zeros((dataset.RasterYSize, dataset.RasterXSize, dataset.RasterCount))\n",
        "\n",
        "for b in range(dataset.RasterCount):\n",
        "    band = dataset.GetRasterBand(b + 1)\n",
        "\n",
        "    image[:, :, b] = band.ReadAsArray()\n",
        "\n",
        "print(image)\n",
        "print(image.dtype)"
      ],
      "metadata": {
        "colab": {
          "base_uri": "https://localhost:8080/"
        },
        "id": "lJMl3RBy73So",
        "outputId": "ee9de8f7-663f-4a76-f667-1bf7a71e9c30"
      },
      "execution_count": 23,
      "outputs": [
        {
          "output_type": "stream",
          "name": "stdout",
          "text": [
            "1.26.4\n",
            "1.26.4\n",
            "[[[0.]\n",
            "  [0.]\n",
            "  [0.]\n",
            "  ...\n",
            "  [0.]\n",
            "  [0.]\n",
            "  [0.]]\n",
            "\n",
            " [[0.]\n",
            "  [0.]\n",
            "  [0.]\n",
            "  ...\n",
            "  [0.]\n",
            "  [0.]\n",
            "  [0.]]\n",
            "\n",
            " [[0.]\n",
            "  [0.]\n",
            "  [0.]\n",
            "  ...\n",
            "  [0.]\n",
            "  [0.]\n",
            "  [0.]]\n",
            "\n",
            " ...\n",
            "\n",
            " [[0.]\n",
            "  [0.]\n",
            "  [0.]\n",
            "  ...\n",
            "  [0.]\n",
            "  [0.]\n",
            "  [0.]]\n",
            "\n",
            " [[0.]\n",
            "  [0.]\n",
            "  [0.]\n",
            "  ...\n",
            "  [0.]\n",
            "  [0.]\n",
            "  [0.]]\n",
            "\n",
            " [[0.]\n",
            "  [0.]\n",
            "  [0.]\n",
            "  ...\n",
            "  [0.]\n",
            "  [0.]\n",
            "  [0.]]]\n",
            "float64\n"
          ]
        }
      ]
    },
    {
      "cell_type": "code",
      "source": [],
      "metadata": {
        "colab": {
          "base_uri": "https://localhost:8080/",
          "height": 166
        },
        "id": "h1L0wbxgA1_0",
        "outputId": "a7fb5698-8f7a-4435-addb-b9c45bd8976d"
      },
      "execution_count": 25,
      "outputs": [
        {
          "output_type": "error",
          "ename": "IndexError",
          "evalue": "index 2 is out of bounds for axis 2 with size 1",
          "traceback": [
            "\u001b[0;31m---------------------------------------------------------------------------\u001b[0m",
            "\u001b[0;31mIndexError\u001b[0m                                Traceback (most recent call last)",
            "\u001b[0;32m<ipython-input-25-107c5389e0a0>\u001b[0m in \u001b[0;36m<cell line: 1>\u001b[0;34m()\u001b[0m\n\u001b[0;32m----> 1\u001b[0;31m \u001b[0mprint\u001b[0m\u001b[0;34m(\u001b[0m\u001b[0;34m'Green band mean : {r}'\u001b[0m\u001b[0;34m.\u001b[0m\u001b[0mformat\u001b[0m\u001b[0;34m(\u001b[0m\u001b[0mr\u001b[0m\u001b[0;34m=\u001b[0m\u001b[0mimage\u001b[0m\u001b[0;34m[\u001b[0m\u001b[0;34m:\u001b[0m\u001b[0;34m,\u001b[0m\u001b[0;34m:\u001b[0m\u001b[0;34m,\u001b[0m \u001b[0;36m2\u001b[0m\u001b[0;34m]\u001b[0m\u001b[0;34m.\u001b[0m\u001b[0mmean\u001b[0m\u001b[0;34m(\u001b[0m\u001b[0;34m)\u001b[0m\u001b[0;34m)\u001b[0m\u001b[0;34m)\u001b[0m\u001b[0;34m\u001b[0m\u001b[0;34m\u001b[0m\u001b[0m\n\u001b[0m\u001b[1;32m      2\u001b[0m \u001b[0mprint\u001b[0m\u001b[0;34m(\u001b[0m\u001b[0;34m'NIR band mean : {nir}'\u001b[0m\u001b[0;34m.\u001b[0m\u001b[0mformat\u001b[0m\u001b[0;34m(\u001b[0m\u001b[0mnir\u001b[0m\u001b[0;34m=\u001b[0m\u001b[0mimage\u001b[0m\u001b[0;34m[\u001b[0m\u001b[0;34m:\u001b[0m\u001b[0;34m,\u001b[0m\u001b[0;34m:\u001b[0m\u001b[0;34m,\u001b[0m\u001b[0;36m5\u001b[0m\u001b[0;34m]\u001b[0m\u001b[0;34m.\u001b[0m\u001b[0mmean\u001b[0m\u001b[0;34m(\u001b[0m\u001b[0;34m)\u001b[0m\u001b[0;34m)\u001b[0m\u001b[0;34m)\u001b[0m\u001b[0;34m\u001b[0m\u001b[0;34m\u001b[0m\u001b[0m\n",
            "\u001b[0;31mIndexError\u001b[0m: index 2 is out of bounds for axis 2 with size 1"
          ]
        }
      ]
    },
    {
      "cell_type": "code",
      "source": [],
      "metadata": {
        "id": "msQynSw9AzAU"
      },
      "execution_count": null,
      "outputs": []
    }
  ]
}